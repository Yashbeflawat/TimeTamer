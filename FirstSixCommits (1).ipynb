{
  "nbformat": 4,
  "nbformat_minor": 0,
  "metadata": {
    "colab": {
      "provenance": []
    },
    "kernelspec": {
      "name": "python3",
      "display_name": "Python 3"
    },
    "language_info": {
      "name": "python"
    }
  },
  "cells": [
    {
      "cell_type": "code",
      "source": [
        "# In order to create reminder notifications, you need to import required libraries\n",
        "# Here I've imported schedule librarier to trigger the notification to pop-up at a specific time\n",
        "# I have also imported datetime from datetime\n",
        "# and also notification from plyer library in order to create notifications\n",
        "import schedule\n",
        "import time\n",
        "from plyer import notification"
      ],
      "metadata": {
        "id": "adINU4A5W5U6"
      },
      "execution_count": 2,
      "outputs": []
    },
    {
      "cell_type": "code",
      "source": [
        "# This function is to send notifications which also contains the duration of the message\n",
        "def send_notification(title: str, message: str) -> None:\n",
        "    \"\"\"Send a desktop notification.\"\"\"\n",
        "    notification.notify(\n",
        "        title=title,\n",
        "        message=message,\n",
        "        timeout=10\n",
        "    )"
      ],
      "metadata": {
        "id": "QlpefLCWccCS"
      },
      "execution_count": 9,
      "outputs": []
    },
    {
      "cell_type": "code",
      "source": [
        "# These are the Task variables which are also the message in the notification reminder\n",
        "tasks = {\n",
        "    \"wake_up\": \"It's time to start your day!\",\n",
        "    \"start_work\": \"💻 Focus on important work tasks.\",\n",
        "    \"take_break\": \"🛑 Time to take a short break!\",\n",
        "    \"end_work\": \"🎉 You've completed your work for the day!\"\n",
        "}"
      ],
      "metadata": {
        "id": "YsHNmnlUknlo"
      },
      "execution_count": 10,
      "outputs": []
    },
    {
      "cell_type": "code",
      "source": [
        "# This function schedules the daily tasks notification reminders\n",
        "def schedule_tasks() -> None:\n",
        "    \"\"\"Schedule daily tasks.\"\"\"\n",
        "    schedule.every().day.at(\"07:00\").do(lambda: send_notification(\"Wake Up!\", tasks[\"wake_up\"]))\n",
        "    schedule.every().day.at(\"09:00\").do(lambda: send_notification(\"Work Reminder\", tasks[\"start_work\"]))\n",
        "    schedule.every().hour.at(\":30\").do(lambda: send_notification(\"Break Time\", tasks[\"take_break\"]))\n",
        "    schedule.every().day.at(\"17:00\").do(lambda: send_notification(\"End of Work\", tasks[\"end_work\"]))\n"
      ],
      "metadata": {
        "id": "Z6k4zV0dk3tf"
      },
      "execution_count": 11,
      "outputs": []
    },
    {
      "cell_type": "code",
      "source": [
        "# Here, I've made a function to run the scheduler which runs the scheduler that triggers the notification on the desired time\n",
        "# This function also checks if there are any pending tasks or not\n",
        "def run_scheduler() -> None:\n",
        "    \"\"\"Run the scheduler for notifications.\"\"\"\n",
        "    print(\"Program started at\", time.strftime(\"%Y-%m-%d %H:%M:%S\"))\n",
        "    while True:\n",
        "        schedule.run_pending()  # Check for pending tasks\n",
        "        time.sleep(1)  # Wait for one second\n"
      ],
      "metadata": {
        "id": "dVlJeF_3lJZ8"
      },
      "execution_count": 12,
      "outputs": []
    }
  ]
}