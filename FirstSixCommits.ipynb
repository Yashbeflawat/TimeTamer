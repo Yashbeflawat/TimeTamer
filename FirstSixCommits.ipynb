{
  "nbformat": 4,
  "nbformat_minor": 0,
  "metadata": {
    "colab": {
      "provenance": []
    },
    "kernelspec": {
      "name": "python3",
      "display_name": "Python 3"
    },
    "language_info": {
      "name": "python"
    }
  },
  "cells": [
    {
      "cell_type": "code",
      "execution_count": 1,
      "metadata": {
        "colab": {
          "base_uri": "https://localhost:8080/"
        },
        "id": "8aoQGHymQmV5",
        "outputId": "d663ed4d-65e9-4b2c-ccba-6d4447247a54"
      },
      "outputs": [
        {
          "output_type": "stream",
          "name": "stdout",
          "text": [
            "Collecting plyer\n",
            "  Downloading plyer-2.1.0-py2.py3-none-any.whl.metadata (61 kB)\n",
            "\u001b[2K     \u001b[90m━━━━━━━━━━━━━━━━━━━━━━━━━━━━━━━━━━━━━━━━\u001b[0m \u001b[32m61.2/61.2 kB\u001b[0m \u001b[31m2.4 MB/s\u001b[0m eta \u001b[36m0:00:00\u001b[0m\n",
            "\u001b[?25hCollecting schedule\n",
            "  Downloading schedule-1.2.2-py3-none-any.whl.metadata (3.8 kB)\n",
            "Downloading plyer-2.1.0-py2.py3-none-any.whl (142 kB)\n",
            "\u001b[2K   \u001b[90m━━━━━━━━━━━━━━━━━━━━━━━━━━━━━━━━━━━━━━━━\u001b[0m \u001b[32m142.3/142.3 kB\u001b[0m \u001b[31m5.8 MB/s\u001b[0m eta \u001b[36m0:00:00\u001b[0m\n",
            "\u001b[?25hDownloading schedule-1.2.2-py3-none-any.whl (12 kB)\n",
            "Installing collected packages: plyer, schedule\n",
            "Successfully installed plyer-2.1.0 schedule-1.2.2\n"
          ]
        }
      ],
      "source": [
        "!pip install plyer schedule\n"
      ]
    },
    {
      "cell_type": "code",
      "source": [
        "# In order to create reminder notifications, you need to import required libraries\n",
        "# Here I've imported schedule librarier to trigger the notification to pop-up at a specific time\n",
        "# I have also imported datetime from datetime\n",
        "# and also notification from plyer library in order to create notifications\n",
        "import schedule\n",
        "import time\n",
        "from datetime import datetime\n",
        "from plyer import notification"
      ],
      "metadata": {
        "id": "adINU4A5W5U6"
      },
      "execution_count": 2,
      "outputs": []
    },
    {
      "cell_type": "code",
      "source": [
        "# Here, I've created various different functions for each task and send notification functions inside them\n",
        "# There are 4 tasks taken as example and and has their custom messages inside the send notification functions\n",
        "# Define your tasks (customize this as needed)\n",
        "def wake_up():\n",
        "    send_notification(\"Reminder\", \"⏰ Time to wake up and start your day!\")\n",
        "\n",
        "def hydrate():\n",
        "    send_notification(\"Reminder\", \"💧 Drink water to hydrate.\")\n",
        "\n",
        "def exercise():\n",
        "    send_notification(\"Reminder\", \"🏃‍♂️ Time for some exercise!\")\n",
        "\n",
        "def work_on_tasks():\n",
        "    send_notification(\"Reminder\", \"💻 Focus on important work tasks.\")\n"
      ],
      "metadata": {
        "id": "S9pEXET9bGd8"
      },
      "execution_count": 3,
      "outputs": []
    },
    {
      "cell_type": "code",
      "source": [
        "# this is the function to send notifications\n",
        "# it also includes the timeout duration specified which is the duration the notification will last\n",
        "def send_notification(title, message):\n",
        "    notification.notify(\n",
        "        title=title,\n",
        "        message=message,\n",
        "        timeout=10  # Time the notification stays on screen (in seconds)\n",
        "    )\n"
      ],
      "metadata": {
        "id": "jzfmQJ26b8Y8"
      },
      "execution_count": 4,
      "outputs": []
    },
    {
      "cell_type": "code",
      "source": [
        "# Here, I've defined the functions to schedule tasks\n",
        "def create_schedule():\n",
        "    schedule.every().day.at(\"07:00\").do(wake_up)\n",
        "    schedule.every().day.at(\"07:30\").do(hydrate)\n",
        "    schedule.every().day.at(\"08:00\").do(exercise)\n",
        "    schedule.every().day.at(\"09:00\").do(work_on_tasks)"
      ],
      "metadata": {
        "id": "QlpefLCWccCS"
      },
      "execution_count": 5,
      "outputs": []
    },
    {
      "cell_type": "code",
      "source": [
        "# This function is made to run the scheduler continuously\n",
        "# It helps the program to send the notification regularly\n",
        "def run_scheduler():\n",
        "    create_schedule()\n",
        "    while True:\n",
        "        schedule.run_pending()  # Check for pending tasks and run them\n",
        "        time.sleep(60)  # Wait for a minute before checking again\n"
      ],
      "metadata": {
        "id": "tpV15_tNc29E"
      },
      "execution_count": 6,
      "outputs": []
    }
  ]
}